{
  "cells": [
    {
      "cell_type": "code",
      "execution_count": 1,
      "metadata": {
        "colab": {
          "base_uri": "https://localhost:8080/"
        },
        "id": "me8Ld3jc_V9P",
        "outputId": "f04776e4-ad3d-4c93-e9b8-df6e8abb1c68"
      },
      "outputs": [
        {
          "output_type": "stream",
          "name": "stdout",
          "text": [
            "Collecting ultralytics\n",
            "  Downloading ultralytics-8.1.11-py3-none-any.whl (709 kB)\n",
            "\u001b[2K     \u001b[90m━━━━━━━━━━━━━━━━━━━━━━━━━━━━━━━━━━━━━━━━\u001b[0m \u001b[32m709.5/709.5 kB\u001b[0m \u001b[31m4.3 MB/s\u001b[0m eta \u001b[36m0:00:00\u001b[0m\n",
            "\u001b[?25hRequirement already satisfied: matplotlib>=3.3.0 in /usr/local/lib/python3.10/dist-packages (from ultralytics) (3.7.1)\n",
            "Requirement already satisfied: numpy>=1.22.2 in /usr/local/lib/python3.10/dist-packages (from ultralytics) (1.23.5)\n",
            "Requirement already satisfied: opencv-python>=4.6.0 in /usr/local/lib/python3.10/dist-packages (from ultralytics) (4.8.0.76)\n",
            "Requirement already satisfied: pillow>=7.1.2 in /usr/local/lib/python3.10/dist-packages (from ultralytics) (9.4.0)\n",
            "Requirement already satisfied: pyyaml>=5.3.1 in /usr/local/lib/python3.10/dist-packages (from ultralytics) (6.0.1)\n",
            "Requirement already satisfied: requests>=2.23.0 in /usr/local/lib/python3.10/dist-packages (from ultralytics) (2.31.0)\n",
            "Requirement already satisfied: scipy>=1.4.1 in /usr/local/lib/python3.10/dist-packages (from ultralytics) (1.11.4)\n",
            "Requirement already satisfied: torch>=1.8.0 in /usr/local/lib/python3.10/dist-packages (from ultralytics) (2.1.0+cu121)\n",
            "Requirement already satisfied: torchvision>=0.9.0 in /usr/local/lib/python3.10/dist-packages (from ultralytics) (0.16.0+cu121)\n",
            "Requirement already satisfied: tqdm>=4.64.0 in /usr/local/lib/python3.10/dist-packages (from ultralytics) (4.66.1)\n",
            "Requirement already satisfied: psutil in /usr/local/lib/python3.10/dist-packages (from ultralytics) (5.9.5)\n",
            "Requirement already satisfied: py-cpuinfo in /usr/local/lib/python3.10/dist-packages (from ultralytics) (9.0.0)\n",
            "Collecting thop>=0.1.1 (from ultralytics)\n",
            "  Downloading thop-0.1.1.post2209072238-py3-none-any.whl (15 kB)\n",
            "Requirement already satisfied: pandas>=1.1.4 in /usr/local/lib/python3.10/dist-packages (from ultralytics) (1.5.3)\n",
            "Requirement already satisfied: seaborn>=0.11.0 in /usr/local/lib/python3.10/dist-packages (from ultralytics) (0.13.1)\n",
            "Requirement already satisfied: contourpy>=1.0.1 in /usr/local/lib/python3.10/dist-packages (from matplotlib>=3.3.0->ultralytics) (1.2.0)\n",
            "Requirement already satisfied: cycler>=0.10 in /usr/local/lib/python3.10/dist-packages (from matplotlib>=3.3.0->ultralytics) (0.12.1)\n",
            "Requirement already satisfied: fonttools>=4.22.0 in /usr/local/lib/python3.10/dist-packages (from matplotlib>=3.3.0->ultralytics) (4.48.1)\n",
            "Requirement already satisfied: kiwisolver>=1.0.1 in /usr/local/lib/python3.10/dist-packages (from matplotlib>=3.3.0->ultralytics) (1.4.5)\n",
            "Requirement already satisfied: packaging>=20.0 in /usr/local/lib/python3.10/dist-packages (from matplotlib>=3.3.0->ultralytics) (23.2)\n",
            "Requirement already satisfied: pyparsing>=2.3.1 in /usr/local/lib/python3.10/dist-packages (from matplotlib>=3.3.0->ultralytics) (3.1.1)\n",
            "Requirement already satisfied: python-dateutil>=2.7 in /usr/local/lib/python3.10/dist-packages (from matplotlib>=3.3.0->ultralytics) (2.8.2)\n",
            "Requirement already satisfied: pytz>=2020.1 in /usr/local/lib/python3.10/dist-packages (from pandas>=1.1.4->ultralytics) (2023.4)\n",
            "Requirement already satisfied: charset-normalizer<4,>=2 in /usr/local/lib/python3.10/dist-packages (from requests>=2.23.0->ultralytics) (3.3.2)\n",
            "Requirement already satisfied: idna<4,>=2.5 in /usr/local/lib/python3.10/dist-packages (from requests>=2.23.0->ultralytics) (3.6)\n",
            "Requirement already satisfied: urllib3<3,>=1.21.1 in /usr/local/lib/python3.10/dist-packages (from requests>=2.23.0->ultralytics) (2.0.7)\n",
            "Requirement already satisfied: certifi>=2017.4.17 in /usr/local/lib/python3.10/dist-packages (from requests>=2.23.0->ultralytics) (2024.2.2)\n",
            "Requirement already satisfied: filelock in /usr/local/lib/python3.10/dist-packages (from torch>=1.8.0->ultralytics) (3.13.1)\n",
            "Requirement already satisfied: typing-extensions in /usr/local/lib/python3.10/dist-packages (from torch>=1.8.0->ultralytics) (4.9.0)\n",
            "Requirement already satisfied: sympy in /usr/local/lib/python3.10/dist-packages (from torch>=1.8.0->ultralytics) (1.12)\n",
            "Requirement already satisfied: networkx in /usr/local/lib/python3.10/dist-packages (from torch>=1.8.0->ultralytics) (3.2.1)\n",
            "Requirement already satisfied: jinja2 in /usr/local/lib/python3.10/dist-packages (from torch>=1.8.0->ultralytics) (3.1.3)\n",
            "Requirement already satisfied: fsspec in /usr/local/lib/python3.10/dist-packages (from torch>=1.8.0->ultralytics) (2023.6.0)\n",
            "Requirement already satisfied: triton==2.1.0 in /usr/local/lib/python3.10/dist-packages (from torch>=1.8.0->ultralytics) (2.1.0)\n",
            "Requirement already satisfied: six>=1.5 in /usr/local/lib/python3.10/dist-packages (from python-dateutil>=2.7->matplotlib>=3.3.0->ultralytics) (1.16.0)\n",
            "Requirement already satisfied: MarkupSafe>=2.0 in /usr/local/lib/python3.10/dist-packages (from jinja2->torch>=1.8.0->ultralytics) (2.1.5)\n",
            "Requirement already satisfied: mpmath>=0.19 in /usr/local/lib/python3.10/dist-packages (from sympy->torch>=1.8.0->ultralytics) (1.3.0)\n",
            "Installing collected packages: thop, ultralytics\n",
            "Successfully installed thop-0.1.1.post2209072238 ultralytics-8.1.11\n"
          ]
        }
      ],
      "source": [
        "!pip install ultralytics"
      ]
    },
    {
      "cell_type": "code",
      "execution_count": 2,
      "metadata": {
        "id": "etAseH1WJIob"
      },
      "outputs": [],
      "source": [
        "!mkdir training_data"
      ]
    },
    {
      "cell_type": "code",
      "execution_count": 3,
      "metadata": {
        "colab": {
          "base_uri": "https://localhost:8080/"
        },
        "id": "cHEhYNwSbLNP",
        "outputId": "373d97d3-1427-458b-8e10-b4ac171fd634"
      },
      "outputs": [
        {
          "output_type": "stream",
          "name": "stdout",
          "text": [
            "Mounted at /content/drive\n"
          ]
        }
      ],
      "source": [
        "from google.colab import drive\n",
        "drive.mount('/content/drive')"
      ]
    },
    {
      "cell_type": "code",
      "source": [
        "!pip install roboflow\n",
        "\n",
        "from roboflow import Roboflow\n",
        "rf = Roboflow(api_key=\"ei8PuWM4xUIUR0iUfhic\")\n",
        "project = rf.workspace(\"parkku\").project(\"parkku\")\n",
        "dataset = project.version(2).download(\"yolov8\")"
      ],
      "metadata": {
        "colab": {
          "base_uri": "https://localhost:8080/"
        },
        "id": "hVNkFGsp4ASe",
        "outputId": "54da1c3c-be53-477e-edef-0cb0a52ae78b"
      },
      "execution_count": 2,
      "outputs": [
        {
          "output_type": "stream",
          "name": "stdout",
          "text": [
            "Requirement already satisfied: roboflow in /usr/local/lib/python3.10/dist-packages (1.1.19)\n",
            "Requirement already satisfied: certifi==2023.7.22 in /usr/local/lib/python3.10/dist-packages (from roboflow) (2023.7.22)\n",
            "Requirement already satisfied: chardet==4.0.0 in /usr/local/lib/python3.10/dist-packages (from roboflow) (4.0.0)\n",
            "Requirement already satisfied: cycler==0.10.0 in /usr/local/lib/python3.10/dist-packages (from roboflow) (0.10.0)\n",
            "Requirement already satisfied: idna==2.10 in /usr/local/lib/python3.10/dist-packages (from roboflow) (2.10)\n",
            "Requirement already satisfied: kiwisolver>=1.3.1 in /usr/local/lib/python3.10/dist-packages (from roboflow) (1.4.5)\n",
            "Requirement already satisfied: matplotlib in /usr/local/lib/python3.10/dist-packages (from roboflow) (3.7.1)\n",
            "Requirement already satisfied: numpy>=1.18.5 in /usr/local/lib/python3.10/dist-packages (from roboflow) (1.23.5)\n",
            "Requirement already satisfied: opencv-python-headless==4.8.0.74 in /usr/local/lib/python3.10/dist-packages (from roboflow) (4.8.0.74)\n",
            "Requirement already satisfied: Pillow>=7.1.2 in /usr/local/lib/python3.10/dist-packages (from roboflow) (9.4.0)\n",
            "Requirement already satisfied: python-dateutil in /usr/local/lib/python3.10/dist-packages (from roboflow) (2.8.2)\n",
            "Requirement already satisfied: python-dotenv in /usr/local/lib/python3.10/dist-packages (from roboflow) (1.0.1)\n",
            "Requirement already satisfied: requests in /usr/local/lib/python3.10/dist-packages (from roboflow) (2.31.0)\n",
            "Requirement already satisfied: six in /usr/local/lib/python3.10/dist-packages (from roboflow) (1.16.0)\n",
            "Requirement already satisfied: supervision in /usr/local/lib/python3.10/dist-packages (from roboflow) (0.18.0)\n",
            "Requirement already satisfied: urllib3>=1.26.6 in /usr/local/lib/python3.10/dist-packages (from roboflow) (2.0.7)\n",
            "Requirement already satisfied: tqdm>=4.41.0 in /usr/local/lib/python3.10/dist-packages (from roboflow) (4.66.1)\n",
            "Requirement already satisfied: PyYAML>=5.3.1 in /usr/local/lib/python3.10/dist-packages (from roboflow) (6.0.1)\n",
            "Requirement already satisfied: requests-toolbelt in /usr/local/lib/python3.10/dist-packages (from roboflow) (1.0.0)\n",
            "Requirement already satisfied: python-magic in /usr/local/lib/python3.10/dist-packages (from roboflow) (0.4.27)\n",
            "Requirement already satisfied: contourpy>=1.0.1 in /usr/local/lib/python3.10/dist-packages (from matplotlib->roboflow) (1.2.0)\n",
            "Requirement already satisfied: fonttools>=4.22.0 in /usr/local/lib/python3.10/dist-packages (from matplotlib->roboflow) (4.48.1)\n",
            "Requirement already satisfied: packaging>=20.0 in /usr/local/lib/python3.10/dist-packages (from matplotlib->roboflow) (23.2)\n",
            "Requirement already satisfied: pyparsing>=2.3.1 in /usr/local/lib/python3.10/dist-packages (from matplotlib->roboflow) (3.1.1)\n",
            "Requirement already satisfied: charset-normalizer<4,>=2 in /usr/local/lib/python3.10/dist-packages (from requests->roboflow) (3.3.2)\n",
            "Requirement already satisfied: defusedxml<0.8.0,>=0.7.1 in /usr/local/lib/python3.10/dist-packages (from supervision->roboflow) (0.7.1)\n",
            "Requirement already satisfied: scipy<2.0.0,>=1.10.0 in /usr/local/lib/python3.10/dist-packages (from supervision->roboflow) (1.11.4)\n",
            "loading Roboflow workspace...\n",
            "loading Roboflow project...\n",
            "Dependency ultralytics==8.0.196 is required but found version=8.1.11, to fix: `pip install ultralytics==8.0.196`\n"
          ]
        },
        {
          "output_type": "stream",
          "name": "stderr",
          "text": [
            "Downloading Dataset Version Zip in ParkKU-2 to yolov8:: 100%|██████████| 97619/97619 [00:02<00:00, 37424.93it/s]"
          ]
        },
        {
          "output_type": "stream",
          "name": "stdout",
          "text": [
            "\n"
          ]
        },
        {
          "output_type": "stream",
          "name": "stderr",
          "text": [
            "\n",
            "Extracting Dataset Version Zip to ParkKU-2 in yolov8:: 100%|██████████| 3898/3898 [00:00<00:00, 3924.43it/s]\n"
          ]
        }
      ]
    },
    {
      "cell_type": "code",
      "execution_count": 3,
      "metadata": {
        "id": "ZmzTpXkdS2B6"
      },
      "outputs": [],
      "source": [
        "import os\n",
        "\n",
        "file_list = os.listdir(\"/content/ParkKU-2/train/images\")"
      ]
    },
    {
      "cell_type": "code",
      "execution_count": 4,
      "metadata": {
        "colab": {
          "base_uri": "https://localhost:8080/"
        },
        "id": "klTzuF2pTFRV",
        "outputId": "352868ea-01b1-4bf2-92a2-a48aff4dc231"
      },
      "outputs": [
        {
          "output_type": "execute_result",
          "data": {
            "text/plain": [
              "1345"
            ]
          },
          "metadata": {},
          "execution_count": 4
        }
      ],
      "source": [
        "len(file_list)"
      ]
    },
    {
      "cell_type": "code",
      "execution_count": 5,
      "metadata": {
        "colab": {
          "base_uri": "https://localhost:8080/"
        },
        "id": "9KGnAtu6OUI9",
        "outputId": "7f7426a5-83ff-46cb-9239-7349e6f0c7fb"
      },
      "outputs": [
        {
          "output_type": "stream",
          "name": "stdout",
          "text": [
            "Ultralytics YOLOv8.1.11 🚀 Python-3.10.12 torch-2.1.0+cu121 CUDA:0 (Tesla T4, 15102MiB)\n",
            "\u001b[34m\u001b[1mengine/trainer: \u001b[0mtask=detect, mode=train, model=/content/drive/MyDrive/BE Project/Data/YOLOv8/yolov8s.pt, data=/content/ParkKU-2/data.yaml, epochs=30, time=None, patience=50, batch=64, imgsz=640, save=True, save_period=-1, cache=False, device=None, workers=8, project=None, name=train, exist_ok=False, pretrained=True, optimizer=auto, verbose=True, seed=0, deterministic=True, single_cls=False, rect=False, cos_lr=False, close_mosaic=10, resume=False, amp=True, fraction=1.0, profile=False, freeze=None, multi_scale=False, overlap_mask=True, mask_ratio=4, dropout=0.0, val=True, split=val, save_json=False, save_hybrid=False, conf=None, iou=0.7, max_det=300, half=False, dnn=False, plots=True, source=None, vid_stride=1, stream_buffer=False, visualize=False, augment=False, agnostic_nms=False, classes=None, retina_masks=False, embed=None, show=False, save_frames=False, save_txt=False, save_conf=False, save_crop=False, show_labels=True, show_conf=True, show_boxes=True, line_width=None, format=torchscript, keras=False, optimize=False, int8=False, dynamic=False, simplify=False, opset=None, workspace=4, nms=False, lr0=0.01, lrf=0.01, momentum=0.937, weight_decay=0.0005, warmup_epochs=3.0, warmup_momentum=0.8, warmup_bias_lr=0.1, box=7.5, cls=0.5, dfl=1.5, pose=12.0, kobj=1.0, label_smoothing=0.0, nbs=64, hsv_h=0.015, hsv_s=0.7, hsv_v=0.4, degrees=0.0, translate=0.1, scale=0.5, shear=0.0, perspective=0.0, flipud=0.0, fliplr=0.5, mosaic=1.0, mixup=0.0, copy_paste=0.0, auto_augment=randaugment, erasing=0.4, crop_fraction=1.0, cfg=None, tracker=botsort.yaml, save_dir=runs/detect/train\n",
            "Downloading https://ultralytics.com/assets/Arial.ttf to '/root/.config/Ultralytics/Arial.ttf'...\n",
            "100% 755k/755k [00:00<00:00, 17.6MB/s]\n",
            "2024-02-11 15:53:26.366230: E external/local_xla/xla/stream_executor/cuda/cuda_dnn.cc:9261] Unable to register cuDNN factory: Attempting to register factory for plugin cuDNN when one has already been registered\n",
            "2024-02-11 15:53:26.366300: E external/local_xla/xla/stream_executor/cuda/cuda_fft.cc:607] Unable to register cuFFT factory: Attempting to register factory for plugin cuFFT when one has already been registered\n",
            "2024-02-11 15:53:26.367686: E external/local_xla/xla/stream_executor/cuda/cuda_blas.cc:1515] Unable to register cuBLAS factory: Attempting to register factory for plugin cuBLAS when one has already been registered\n",
            "Overriding model.yaml nc=80 with nc=2\n",
            "\n",
            "                   from  n    params  module                                       arguments                     \n",
            "  0                  -1  1       928  ultralytics.nn.modules.conv.Conv             [3, 32, 3, 2]                 \n",
            "  1                  -1  1     18560  ultralytics.nn.modules.conv.Conv             [32, 64, 3, 2]                \n",
            "  2                  -1  1     29056  ultralytics.nn.modules.block.C2f             [64, 64, 1, True]             \n",
            "  3                  -1  1     73984  ultralytics.nn.modules.conv.Conv             [64, 128, 3, 2]               \n",
            "  4                  -1  2    197632  ultralytics.nn.modules.block.C2f             [128, 128, 2, True]           \n",
            "  5                  -1  1    295424  ultralytics.nn.modules.conv.Conv             [128, 256, 3, 2]              \n",
            "  6                  -1  2    788480  ultralytics.nn.modules.block.C2f             [256, 256, 2, True]           \n",
            "  7                  -1  1   1180672  ultralytics.nn.modules.conv.Conv             [256, 512, 3, 2]              \n",
            "  8                  -1  1   1838080  ultralytics.nn.modules.block.C2f             [512, 512, 1, True]           \n",
            "  9                  -1  1    656896  ultralytics.nn.modules.block.SPPF            [512, 512, 5]                 \n",
            " 10                  -1  1         0  torch.nn.modules.upsampling.Upsample         [None, 2, 'nearest']          \n",
            " 11             [-1, 6]  1         0  ultralytics.nn.modules.conv.Concat           [1]                           \n",
            " 12                  -1  1    591360  ultralytics.nn.modules.block.C2f             [768, 256, 1]                 \n",
            " 13                  -1  1         0  torch.nn.modules.upsampling.Upsample         [None, 2, 'nearest']          \n",
            " 14             [-1, 4]  1         0  ultralytics.nn.modules.conv.Concat           [1]                           \n",
            " 15                  -1  1    148224  ultralytics.nn.modules.block.C2f             [384, 128, 1]                 \n",
            " 16                  -1  1    147712  ultralytics.nn.modules.conv.Conv             [128, 128, 3, 2]              \n",
            " 17            [-1, 12]  1         0  ultralytics.nn.modules.conv.Concat           [1]                           \n",
            " 18                  -1  1    493056  ultralytics.nn.modules.block.C2f             [384, 256, 1]                 \n",
            " 19                  -1  1    590336  ultralytics.nn.modules.conv.Conv             [256, 256, 3, 2]              \n",
            " 20             [-1, 9]  1         0  ultralytics.nn.modules.conv.Concat           [1]                           \n",
            " 21                  -1  1   1969152  ultralytics.nn.modules.block.C2f             [768, 512, 1]                 \n",
            " 22        [15, 18, 21]  1   2116822  ultralytics.nn.modules.head.Detect           [2, [128, 256, 512]]          \n",
            "Model summary: 225 layers, 11136374 parameters, 11136358 gradients, 28.6 GFLOPs\n",
            "\n",
            "Transferred 349/355 items from pretrained weights\n",
            "\u001b[34m\u001b[1mTensorBoard: \u001b[0mStart with 'tensorboard --logdir runs/detect/train', view at http://localhost:6006/\n",
            "Freezing layer 'model.22.dfl.conv.weight'\n",
            "\u001b[34m\u001b[1mAMP: \u001b[0mrunning Automatic Mixed Precision (AMP) checks with YOLOv8n...\n",
            "Downloading https://github.com/ultralytics/assets/releases/download/v8.1.0/yolov8n.pt to 'yolov8n.pt'...\n",
            "100% 6.23M/6.23M [00:00<00:00, 81.4MB/s]\n",
            "\u001b[34m\u001b[1mAMP: \u001b[0mchecks passed ✅\n",
            "\u001b[34m\u001b[1mtrain: \u001b[0mScanning /content/ParkKU-2/train/labels... 1345 images, 0 backgrounds, 0 corrupt: 100% 1345/1345 [00:00<00:00, 1819.08it/s]\n",
            "\u001b[34m\u001b[1mtrain: \u001b[0mNew cache created: /content/ParkKU-2/train/labels.cache\n",
            "\u001b[34m\u001b[1malbumentations: \u001b[0mBlur(p=0.01, blur_limit=(3, 7)), MedianBlur(p=0.01, blur_limit=(3, 7)), ToGray(p=0.01), CLAHE(p=0.01, clip_limit=(1, 4.0), tile_grid_size=(8, 8))\n",
            "\u001b[34m\u001b[1mval: \u001b[0mScanning /content/ParkKU-2/valid/labels... 385 images, 0 backgrounds, 0 corrupt: 100% 385/385 [00:00<00:00, 1007.28it/s]\n",
            "\u001b[34m\u001b[1mval: \u001b[0mNew cache created: /content/ParkKU-2/valid/labels.cache\n",
            "Plotting labels to runs/detect/train/labels.jpg... \n",
            "\u001b[34m\u001b[1moptimizer:\u001b[0m 'optimizer=auto' found, ignoring 'lr0=0.01' and 'momentum=0.937' and determining best 'optimizer', 'lr0' and 'momentum' automatically... \n",
            "\u001b[34m\u001b[1moptimizer:\u001b[0m AdamW(lr=0.001667, momentum=0.9) with parameter groups 57 weight(decay=0.0), 64 weight(decay=0.0005), 63 bias(decay=0.0)\n",
            "\u001b[34m\u001b[1mTensorBoard: \u001b[0mmodel graph visualization added ✅\n",
            "Image sizes 640 train, 640 val\n",
            "Using 2 dataloader workers\n",
            "Logging results to \u001b[1mruns/detect/train\u001b[0m\n",
            "Starting training for 30 epochs...\n",
            "\n",
            "      Epoch    GPU_mem   box_loss   cls_loss   dfl_loss  Instances       Size\n",
            "       1/30     0.908G      1.703      4.001      1.781          1        640: 100% 22/22 [00:30<00:00,  1.41s/it]\n",
            "                 Class     Images  Instances      Box(P          R      mAP50  mAP50-95): 100% 4/4 [00:06<00:00,  1.53s/it]\n",
            "                   all        385        446     0.0718      0.197     0.0386     0.0183\n",
            "\n",
            "      Epoch    GPU_mem   box_loss   cls_loss   dfl_loss  Instances       Size\n",
            "       2/30      14.4G      1.224      1.485      1.317          3        640: 100% 22/22 [00:25<00:00,  1.18s/it]\n",
            "                 Class     Images  Instances      Box(P          R      mAP50  mAP50-95): 100% 4/4 [00:06<00:00,  1.54s/it]\n",
            "                   all        385        446      0.156       0.17      0.123     0.0505\n",
            "\n",
            "      Epoch    GPU_mem   box_loss   cls_loss   dfl_loss  Instances       Size\n",
            "       3/30      14.4G      1.259      1.275      1.329          2        640: 100% 22/22 [00:26<00:00,  1.20s/it]\n",
            "                 Class     Images  Instances      Box(P          R      mAP50  mAP50-95): 100% 4/4 [00:05<00:00,  1.33s/it]\n",
            "                   all        385        446     0.0131      0.112    0.00324   0.000916\n",
            "\n",
            "      Epoch    GPU_mem   box_loss   cls_loss   dfl_loss  Instances       Size\n",
            "       4/30      14.6G      1.337       1.31      1.352          2        640: 100% 22/22 [00:26<00:00,  1.18s/it]\n",
            "                 Class     Images  Instances      Box(P          R      mAP50  mAP50-95): 100% 4/4 [00:06<00:00,  1.68s/it]\n",
            "                   all        385        446     0.0112      0.101    0.00484     0.0014\n",
            "\n",
            "      Epoch    GPU_mem   box_loss   cls_loss   dfl_loss  Instances       Size\n",
            "       5/30      14.4G      1.343      1.266      1.363          2        640: 100% 22/22 [00:26<00:00,  1.21s/it]\n",
            "                 Class     Images  Instances      Box(P          R      mAP50  mAP50-95): 100% 4/4 [00:05<00:00,  1.37s/it]\n",
            "                   all        385        446     0.0247      0.307     0.0142    0.00501\n",
            "\n",
            "      Epoch    GPU_mem   box_loss   cls_loss   dfl_loss  Instances       Size\n",
            "       6/30      14.4G        1.3      1.209       1.34          1        640: 100% 22/22 [00:27<00:00,  1.23s/it]\n",
            "                 Class     Images  Instances      Box(P          R      mAP50  mAP50-95): 100% 4/4 [00:06<00:00,  1.70s/it]\n",
            "                   all        385        446      0.152      0.181     0.0908     0.0293\n",
            "\n",
            "      Epoch    GPU_mem   box_loss   cls_loss   dfl_loss  Instances       Size\n",
            "       7/30      14.4G      1.258      1.146      1.316          1        640: 100% 22/22 [00:26<00:00,  1.20s/it]\n",
            "                 Class     Images  Instances      Box(P          R      mAP50  mAP50-95): 100% 4/4 [00:05<00:00,  1.29s/it]\n",
            "                   all        385        446      0.232      0.165     0.0925     0.0423\n",
            "\n",
            "      Epoch    GPU_mem   box_loss   cls_loss   dfl_loss  Instances       Size\n",
            "       8/30      14.5G      1.255      1.111      1.301          7        640: 100% 22/22 [00:26<00:00,  1.22s/it]\n",
            "                 Class     Images  Instances      Box(P          R      mAP50  mAP50-95): 100% 4/4 [00:06<00:00,  1.50s/it]\n",
            "                   all        385        446      0.702       0.31      0.297       0.16\n",
            "\n",
            "      Epoch    GPU_mem   box_loss   cls_loss   dfl_loss  Instances       Size\n",
            "       9/30      14.6G      1.155      1.193      1.206          0        640: 100% 22/22 [00:26<00:00,  1.22s/it]\n",
            "                 Class     Images  Instances      Box(P          R      mAP50  mAP50-95): 100% 4/4 [00:05<00:00,  1.35s/it]\n",
            "                   all        385        446      0.465       0.36      0.328        0.2\n",
            "\n",
            "      Epoch    GPU_mem   box_loss   cls_loss   dfl_loss  Instances       Size\n",
            "      10/30      14.6G      1.171     0.9636      1.258          4        640: 100% 22/22 [00:27<00:00,  1.23s/it]\n",
            "                 Class     Images  Instances      Box(P          R      mAP50  mAP50-95): 100% 4/4 [00:07<00:00,  1.77s/it]\n",
            "                   all        385        446      0.765      0.633      0.734       0.47\n",
            "\n",
            "      Epoch    GPU_mem   box_loss   cls_loss   dfl_loss  Instances       Size\n",
            "      11/30      14.5G      1.152     0.9779      1.244          1        640: 100% 22/22 [00:27<00:00,  1.26s/it]\n",
            "                 Class     Images  Instances      Box(P          R      mAP50  mAP50-95): 100% 4/4 [00:05<00:00,  1.38s/it]\n",
            "                   all        385        446      0.682      0.629      0.612      0.352\n",
            "\n",
            "      Epoch    GPU_mem   box_loss   cls_loss   dfl_loss  Instances       Size\n",
            "      12/30      14.5G      1.195     0.9681      1.291          2        640: 100% 22/22 [00:27<00:00,  1.23s/it]\n",
            "                 Class     Images  Instances      Box(P          R      mAP50  mAP50-95): 100% 4/4 [00:06<00:00,  1.67s/it]\n",
            "                   all        385        446      0.735      0.704      0.776      0.499\n",
            "\n",
            "      Epoch    GPU_mem   box_loss   cls_loss   dfl_loss  Instances       Size\n",
            "      13/30      14.4G      1.143     0.8431      1.249          2        640: 100% 22/22 [00:27<00:00,  1.24s/it]\n",
            "                 Class     Images  Instances      Box(P          R      mAP50  mAP50-95): 100% 4/4 [00:05<00:00,  1.31s/it]\n",
            "                   all        385        446       0.74      0.715      0.748      0.483\n",
            "\n",
            "      Epoch    GPU_mem   box_loss   cls_loss   dfl_loss  Instances       Size\n",
            "      14/30     0.929G      1.102     0.8218       1.22          2        640: 100% 22/22 [00:27<00:00,  1.25s/it]\n",
            "                 Class     Images  Instances      Box(P          R      mAP50  mAP50-95): 100% 4/4 [00:06<00:00,  1.57s/it]\n",
            "                   all        385        446      0.834      0.756      0.845      0.557\n",
            "\n",
            "      Epoch    GPU_mem   box_loss   cls_loss   dfl_loss  Instances       Size\n",
            "      15/30      14.4G      1.075     0.7942      1.191          3        640: 100% 22/22 [00:27<00:00,  1.25s/it]\n",
            "                 Class     Images  Instances      Box(P          R      mAP50  mAP50-95): 100% 4/4 [00:05<00:00,  1.40s/it]\n",
            "                   all        385        446      0.837      0.787      0.878      0.623\n",
            "\n",
            "      Epoch    GPU_mem   box_loss   cls_loss   dfl_loss  Instances       Size\n",
            "      16/30      14.7G       1.02     0.7575      1.172          4        640: 100% 22/22 [00:26<00:00,  1.21s/it]\n",
            "                 Class     Images  Instances      Box(P          R      mAP50  mAP50-95): 100% 4/4 [00:05<00:00,  1.46s/it]\n",
            "                   all        385        446      0.851      0.765      0.864      0.583\n",
            "\n",
            "      Epoch    GPU_mem   box_loss   cls_loss   dfl_loss  Instances       Size\n",
            "      17/30      14.5G      1.055      0.768      1.196          3        640: 100% 22/22 [00:27<00:00,  1.24s/it]\n",
            "                 Class     Images  Instances      Box(P          R      mAP50  mAP50-95): 100% 4/4 [00:06<00:00,  1.54s/it]\n",
            "                   all        385        446      0.925      0.834      0.924      0.656\n",
            "\n",
            "      Epoch    GPU_mem   box_loss   cls_loss   dfl_loss  Instances       Size\n",
            "      18/30      14.6G      1.004     0.6999      1.162          2        640: 100% 22/22 [00:27<00:00,  1.23s/it]\n",
            "                 Class     Images  Instances      Box(P          R      mAP50  mAP50-95): 100% 4/4 [00:05<00:00,  1.32s/it]\n",
            "                   all        385        446      0.885      0.855      0.915      0.649\n",
            "\n",
            "      Epoch    GPU_mem   box_loss   cls_loss   dfl_loss  Instances       Size\n",
            "      19/30      14.5G     0.9861     0.6812       1.15          2        640: 100% 22/22 [00:27<00:00,  1.23s/it]\n",
            "                 Class     Images  Instances      Box(P          R      mAP50  mAP50-95): 100% 4/4 [00:06<00:00,  1.60s/it]\n",
            "                   all        385        446      0.877      0.807      0.909      0.647\n",
            "\n",
            "      Epoch    GPU_mem   box_loss   cls_loss   dfl_loss  Instances       Size\n",
            "      20/30      14.5G      1.024     0.6679      1.173          2        640: 100% 22/22 [00:27<00:00,  1.23s/it]\n",
            "                 Class     Images  Instances      Box(P          R      mAP50  mAP50-95): 100% 4/4 [00:05<00:00,  1.44s/it]\n",
            "                   all        385        446      0.829      0.853      0.892      0.627\n",
            "Closing dataloader mosaic\n",
            "\u001b[34m\u001b[1malbumentations: \u001b[0mBlur(p=0.01, blur_limit=(3, 7)), MedianBlur(p=0.01, blur_limit=(3, 7)), ToGray(p=0.01), CLAHE(p=0.01, clip_limit=(1, 4.0), tile_grid_size=(8, 8))\n",
            "\n",
            "      Epoch    GPU_mem   box_loss   cls_loss   dfl_loss  Instances       Size\n",
            "      21/30      14.9G     0.9666     0.6053      1.178          4        640: 100% 22/22 [00:32<00:00,  1.48s/it]\n",
            "                 Class     Images  Instances      Box(P          R      mAP50  mAP50-95): 100% 4/4 [00:05<00:00,  1.49s/it]\n",
            "                   all        385        446      0.913       0.89      0.935      0.664\n",
            "\n",
            "      Epoch    GPU_mem   box_loss   cls_loss   dfl_loss  Instances       Size\n",
            "      22/30      14.5G     0.9358     0.8245      1.167          1        640: 100% 22/22 [00:26<00:00,  1.20s/it]\n",
            "                 Class     Images  Instances      Box(P          R      mAP50  mAP50-95): 100% 4/4 [00:05<00:00,  1.34s/it]\n",
            "                   all        385        446      0.862      0.889      0.931      0.654\n",
            "\n",
            "      Epoch    GPU_mem   box_loss   cls_loss   dfl_loss  Instances       Size\n",
            "      23/30      14.5G     0.9791     0.6065      1.243          1        640: 100% 22/22 [00:25<00:00,  1.16s/it]\n",
            "                 Class     Images  Instances      Box(P          R      mAP50  mAP50-95): 100% 4/4 [00:06<00:00,  1.56s/it]\n",
            "                   all        385        446       0.91      0.898      0.951      0.695\n",
            "\n",
            "      Epoch    GPU_mem   box_loss   cls_loss   dfl_loss  Instances       Size\n",
            "      24/30      14.6G     0.9519     0.5225      1.203          1        640: 100% 22/22 [00:26<00:00,  1.20s/it]\n",
            "                 Class     Images  Instances      Box(P          R      mAP50  mAP50-95): 100% 4/4 [00:05<00:00,  1.38s/it]\n",
            "                   all        385        446      0.914      0.845      0.926      0.674\n",
            "\n",
            "      Epoch    GPU_mem   box_loss   cls_loss   dfl_loss  Instances       Size\n",
            "      25/30      15.6G     0.8907     0.4877      1.163          1        640: 100% 22/22 [00:26<00:00,  1.19s/it]\n",
            "                 Class     Images  Instances      Box(P          R      mAP50  mAP50-95): 100% 4/4 [00:06<00:00,  1.64s/it]\n",
            "                   all        385        446      0.848      0.899      0.924      0.673\n",
            "\n",
            "      Epoch    GPU_mem   box_loss   cls_loss   dfl_loss  Instances       Size\n",
            "      26/30      14.4G     0.8501      0.466      1.129          1        640: 100% 22/22 [00:25<00:00,  1.16s/it]\n",
            "                 Class     Images  Instances      Box(P          R      mAP50  mAP50-95): 100% 4/4 [00:05<00:00,  1.39s/it]\n",
            "                   all        385        446      0.915      0.908      0.955      0.697\n",
            "\n",
            "      Epoch    GPU_mem   box_loss   cls_loss   dfl_loss  Instances       Size\n",
            "      27/30      14.5G     0.8586     0.4804      1.134          1        640: 100% 22/22 [00:26<00:00,  1.19s/it]\n",
            "                 Class     Images  Instances      Box(P          R      mAP50  mAP50-95): 100% 4/4 [00:05<00:00,  1.35s/it]\n",
            "                   all        385        446      0.929      0.863       0.95      0.701\n",
            "\n",
            "      Epoch    GPU_mem   box_loss   cls_loss   dfl_loss  Instances       Size\n",
            "      28/30     0.908G     0.8326     0.4597      1.139          1        640: 100% 22/22 [00:25<00:00,  1.16s/it]\n",
            "                 Class     Images  Instances      Box(P          R      mAP50  mAP50-95): 100% 4/4 [00:05<00:00,  1.46s/it]\n",
            "                   all        385        446      0.886      0.894      0.937      0.698\n",
            "\n",
            "      Epoch    GPU_mem   box_loss   cls_loss   dfl_loss  Instances       Size\n",
            "      29/30      14.6G     0.8049      0.705      1.081          1        640: 100% 22/22 [00:26<00:00,  1.19s/it]\n",
            "                 Class     Images  Instances      Box(P          R      mAP50  mAP50-95): 100% 4/4 [00:05<00:00,  1.26s/it]\n",
            "                   all        385        446      0.954      0.902      0.966       0.72\n",
            "\n",
            "      Epoch    GPU_mem   box_loss   cls_loss   dfl_loss  Instances       Size\n",
            "      30/30      14.5G     0.8044     0.4112      1.079          1        640: 100% 22/22 [00:25<00:00,  1.16s/it]\n",
            "                 Class     Images  Instances      Box(P          R      mAP50  mAP50-95): 100% 4/4 [00:06<00:00,  1.67s/it]\n",
            "                   all        385        446       0.95      0.906      0.964      0.725\n",
            "\n",
            "30 epochs completed in 0.290 hours.\n",
            "Optimizer stripped from runs/detect/train/weights/last.pt, 22.5MB\n",
            "Optimizer stripped from runs/detect/train/weights/best.pt, 22.5MB\n",
            "\n",
            "Validating runs/detect/train/weights/best.pt...\n",
            "Ultralytics YOLOv8.1.11 🚀 Python-3.10.12 torch-2.1.0+cu121 CUDA:0 (Tesla T4, 15102MiB)\n",
            "Model summary (fused): 168 layers, 11126358 parameters, 0 gradients, 28.4 GFLOPs\n",
            "                 Class     Images  Instances      Box(P          R      mAP50  mAP50-95): 100% 4/4 [00:08<00:00,  2.04s/it]\n",
            "                   all        385        446       0.95      0.906      0.964      0.725\n",
            "                behind        385        105      0.939      0.886      0.947      0.681\n",
            "                 front        385        341      0.962      0.927      0.981      0.769\n",
            "Speed: 0.2ms preprocess, 5.1ms inference, 0.0ms loss, 4.5ms postprocess per image\n",
            "Results saved to \u001b[1mruns/detect/train\u001b[0m\n",
            "💡 Learn more at https://docs.ultralytics.com/modes/train\n"
          ]
        }
      ],
      "source": [
        "! yolo task=detect \\\n",
        "mode=train \\\n",
        "model=\"/content/drive/MyDrive/BE Project/Data/YOLOv8/yolov8s.pt\" \\\n",
        "data=\"/content/ParkKU-2/data.yaml\" \\\n",
        "batch=64 \\\n",
        "epochs=30 \\\n",
        "imgsz=640"
      ]
    },
    {
      "cell_type": "code",
      "execution_count": 7,
      "metadata": {
        "colab": {
          "base_uri": "https://localhost:8080/"
        },
        "id": "35m5pIwtP338",
        "outputId": "c452e13b-3e43-4a9e-a459-dcb8129c4b58"
      },
      "outputs": [
        {
          "output_type": "stream",
          "name": "stdout",
          "text": [
            "Ultralytics YOLOv8.1.11 🚀 Python-3.10.12 torch-2.1.0+cu121 CUDA:0 (Tesla T4, 15102MiB)\n",
            "Model summary (fused): 168 layers, 11126358 parameters, 0 gradients, 28.4 GFLOPs\n",
            "\u001b[34m\u001b[1mval: \u001b[0mScanning /content/ParkKU-2/valid/labels.cache... 385 images, 0 backgrounds, 0 corrupt: 100% 385/385 [00:00<?, ?it/s]\n",
            "                 Class     Images  Instances      Box(P          R      mAP50  mAP50-95): 100% 25/25 [00:08<00:00,  3.07it/s]\n",
            "                   all        385        446      0.951      0.907      0.964      0.726\n",
            "                behind        385        105      0.939      0.886      0.947      0.682\n",
            "                 front        385        341      0.963      0.929      0.981      0.769\n",
            "Speed: 1.3ms preprocess, 9.9ms inference, 0.0ms loss, 3.5ms postprocess per image\n",
            "Results saved to \u001b[1mruns/detect/val\u001b[0m\n",
            "💡 Learn more at https://docs.ultralytics.com/modes/val\n"
          ]
        }
      ],
      "source": [
        "!yolo task=detect \\\n",
        "mode=val \\\n",
        "model=/content/runs/detect/train/weights/best.pt \\\n",
        "data=/content/ParkKU-2/data.yaml"
      ]
    },
    {
      "cell_type": "code",
      "execution_count": 8,
      "metadata": {
        "colab": {
          "base_uri": "https://localhost:8080/"
        },
        "id": "P0Fx9H9_dzzY",
        "outputId": "c1c0127b-e32d-4239-bd2a-af29de24b995"
      },
      "outputs": [
        {
          "output_type": "stream",
          "name": "stdout",
          "text": [
            "Ultralytics YOLOv8.1.11 🚀 Python-3.10.12 torch-2.1.0+cu121 CUDA:0 (Tesla T4, 15102MiB)\n",
            "Model summary (fused): 168 layers, 11126358 parameters, 0 gradients, 28.4 GFLOPs\n",
            "\n",
            "image 1/213 /content/ParkKU-2/test/images/00006_jpg.rf.f32f4fc0bc64c07a76de3f5d162966a3.jpg: 640x640 1 front, 16.3ms\n",
            "image 2/213 /content/ParkKU-2/test/images/00007_jpg.rf.3731e3e32d1bb97170fa9d9e6ea451c6.jpg: 640x640 1 front, 16.4ms\n",
            "image 3/213 /content/ParkKU-2/test/images/00014_jpg.rf.7c64e6f5b630401859128471ddf48993.jpg: 640x640 1 behind, 16.3ms\n",
            "image 4/213 /content/ParkKU-2/test/images/00018_jpg.rf.1a5219bc7bdf78390152c2b3f1df0b04.jpg: 640x640 1 front, 16.3ms\n",
            "image 5/213 /content/ParkKU-2/test/images/00039_jpg.rf.7ecddcc26ebaf5179c092a1dec312c12.jpg: 640x640 1 front, 16.2ms\n",
            "image 6/213 /content/ParkKU-2/test/images/00049_jpg.rf.61b9123cc15a0666eec04fbedbac470f.jpg: 640x640 1 behind, 16.2ms\n",
            "image 7/213 /content/ParkKU-2/test/images/00066_jpg.rf.ca25366997c9ce758aa8cee649bd67a7.jpg: 640x640 1 front, 16.3ms\n",
            "image 8/213 /content/ParkKU-2/test/images/00067_jpg.rf.a51c057f89f637837bc80587e68a2725.jpg: 640x640 1 behind, 1 front, 13.5ms\n",
            "image 9/213 /content/ParkKU-2/test/images/00114_jpg.rf.3bac3e38b4657fd2ae07c77135f21564.jpg: 640x640 1 front, 13.4ms\n",
            "image 10/213 /content/ParkKU-2/test/images/00115_jpg.rf.9045fec5cd4ba823f17009771df5c88e.jpg: 640x640 1 front, 13.5ms\n",
            "image 11/213 /content/ParkKU-2/test/images/00115_jpg.rf.a9cdc871386bc2565013cd31bc50daae.jpg: 640x640 1 front, 13.5ms\n",
            "image 12/213 /content/ParkKU-2/test/images/00143_jpg.rf.42c8a0c5d426a4786f363259685585b7.jpg: 640x640 1 behind, 13.4ms\n",
            "image 13/213 /content/ParkKU-2/test/images/00147_jpg.rf.5923ae5c97a01d353edbb8ff0be0a1b5.jpg: 640x640 1 front, 13.5ms\n",
            "image 14/213 /content/ParkKU-2/test/images/00152_jpg.rf.8eb0247a1f3ba13087b71d730e1ca612.jpg: 640x640 1 front, 13.4ms\n",
            "image 15/213 /content/ParkKU-2/test/images/00185_jpg.rf.5b24bcb2418abab3e40d43c1aeafe287.jpg: 640x640 1 behind, 11.8ms\n",
            "image 16/213 /content/ParkKU-2/test/images/00195_jpg.rf.76428e80e976de98dafba8a23b66b2c8.jpg: 640x640 1 front, 11.8ms\n",
            "image 17/213 /content/ParkKU-2/test/images/00207_jpg.rf.8136150cff5d45e78b37db71f780161f.jpg: 640x640 1 front, 11.8ms\n",
            "image 18/213 /content/ParkKU-2/test/images/00233_jpg.rf.7cfd213063e969e19c9af8057b78d1e4.jpg: 640x640 1 front, 11.8ms\n",
            "image 19/213 /content/ParkKU-2/test/images/00249_jpg.rf.b823638b5138c655553fef3a05b38d21.jpg: 640x640 1 behind, 1 front, 11.8ms\n",
            "image 20/213 /content/ParkKU-2/test/images/00259_jpg.rf.06a4cbbd0552f69a3b691cf61e1e5488.jpg: 640x640 1 behind, 1 front, 11.8ms\n",
            "image 21/213 /content/ParkKU-2/test/images/00259_jpg.rf.4d6ffb3992d570d169bcfdc622b806aa.jpg: 640x640 1 front, 11.8ms\n",
            "image 22/213 /content/ParkKU-2/test/images/00260_jpg.rf.48ed382564cff791cc8a88e94bf4eb51.jpg: 640x640 1 behind, 11.8ms\n",
            "image 23/213 /content/ParkKU-2/test/images/00273_jpg.rf.d7e0c191e282ca09a1460df4e8da3d73.jpg: 640x640 1 front, 11.8ms\n",
            "image 24/213 /content/ParkKU-2/test/images/00288_jpg.rf.286f9beeb0db4b0a0800dff2a6d2f212.jpg: 640x640 1 behind, 11.8ms\n",
            "image 25/213 /content/ParkKU-2/test/images/00293_jpg.rf.b1ad4f949d3615e79134327810bdc582.jpg: 640x640 1 behind, 11.8ms\n",
            "image 26/213 /content/ParkKU-2/test/images/00304_jpg.rf.10bf0d6a2145242b13eb8bbdb8205603.jpg: 640x640 1 front, 11.9ms\n",
            "image 27/213 /content/ParkKU-2/test/images/00315_jpg.rf.79337ab843af2c3cbe1ed78180d1ffa5.jpg: 640x640 1 front, 11.8ms\n",
            "image 28/213 /content/ParkKU-2/test/images/00328_jpg.rf.6ef26645438e2ec37bd17d5a87c3fd9d.jpg: 640x640 1 front, 11.6ms\n",
            "image 29/213 /content/ParkKU-2/test/images/00329_jpg.rf.7267d8af9044d8325437b873015149d2.jpg: 640x640 1 front, 11.0ms\n",
            "image 30/213 /content/ParkKU-2/test/images/00340_jpg.rf.7fa324a1a1410cd91be4735cf415e1db.jpg: 640x640 1 front, 11.0ms\n",
            "image 31/213 /content/ParkKU-2/test/images/00340_jpg.rf.f3aedcdfc08c17d6197ba9b6bf37a413.jpg: 640x640 1 front, 11.0ms\n",
            "image 32/213 /content/ParkKU-2/test/images/00347_jpg.rf.5bb3a4ec6c0f0f3ce2d86e86e38cbaae.jpg: 640x640 1 front, 11.0ms\n",
            "image 33/213 /content/ParkKU-2/test/images/00351_jpg.rf.05be5826911420e20fe72255e9c6e6a9.jpg: 640x640 1 front, 11.0ms\n",
            "image 34/213 /content/ParkKU-2/test/images/00382_jpg.rf.a224823496ca302f1d0cfa0279b854ad.jpg: 640x640 1 front, 11.0ms\n",
            "image 35/213 /content/ParkKU-2/test/images/00399_jpg.rf.c1b1993cf72be9163c7a5b7a91b1e435.jpg: 640x640 1 behind, 11.0ms\n",
            "image 36/213 /content/ParkKU-2/test/images/00413_jpg.rf.d4408503cb9bd7dbce70752978c4a82c.jpg: 640x640 2 behinds, 1 front, 10.6ms\n",
            "image 37/213 /content/ParkKU-2/test/images/00421_jpg.rf.1f2d64470f73454b201f5c171658c1a7.jpg: 640x640 1 behind, 10.6ms\n",
            "image 38/213 /content/ParkKU-2/test/images/00435_jpg.rf.179470d3d95a89cb82d6b56a7bb44481.jpg: 640x640 1 front, 10.7ms\n",
            "image 39/213 /content/ParkKU-2/test/images/00450_jpg.rf.0850093df5916212660c03650e0658cc.jpg: 640x640 1 front, 10.6ms\n",
            "image 40/213 /content/ParkKU-2/test/images/00451_jpg.rf.3700ab8428f2863dd973e8b907ee4922.jpg: 640x640 1 front, 10.6ms\n",
            "image 41/213 /content/ParkKU-2/test/images/00459_jpg.rf.d7fcea4ad9aa97f5504c0a3c04443427.jpg: 640x640 1 front, 10.6ms\n",
            "image 42/213 /content/ParkKU-2/test/images/00460_jpg.rf.5c2cb14c6621c2e146d48631b5c54fda.jpg: 640x640 1 front, 10.6ms\n",
            "image 43/213 /content/ParkKU-2/test/images/00490_jpg.rf.f3880714b2bd03eedf3a08b0a84c2b7b.jpg: 640x640 1 front, 10.6ms\n",
            "image 44/213 /content/ParkKU-2/test/images/00508_jpg.rf.bfcf13ad9063633f86aae44993af7f06.jpg: 640x640 1 behind, 2 fronts, 10.5ms\n",
            "image 45/213 /content/ParkKU-2/test/images/00524_jpg.rf.909057dfbf190a7e0a45badb6e0b4687.jpg: 640x640 1 front, 10.6ms\n",
            "image 46/213 /content/ParkKU-2/test/images/00534_jpg.rf.33d927c0d0e2c3507911eccb30c78185.jpg: 640x640 1 behind, 10.5ms\n",
            "image 47/213 /content/ParkKU-2/test/images/00548_jpg.rf.999c44bc100f9190bc938e70c4b82414.jpg: 640x640 1 front, 10.4ms\n",
            "image 48/213 /content/ParkKU-2/test/images/00550_jpg.rf.1f0b520bd5b924790a67b7119753180b.jpg: 640x640 1 behind, 10.4ms\n",
            "image 49/213 /content/ParkKU-2/test/images/00552_jpg.rf.219c95b94101e5a460c1596659dce02e.jpg: 640x640 1 front, 10.4ms\n",
            "image 50/213 /content/ParkKU-2/test/images/00580_jpg.rf.3147967e30ab0aaaa59b30ddc686dd5a.jpg: 640x640 1 front, 10.3ms\n",
            "image 51/213 /content/ParkKU-2/test/images/00631_jpg.rf.c609bfa36a7153c2ecbe3e305138b620.jpg: 640x640 1 front, 10.3ms\n",
            "image 52/213 /content/ParkKU-2/test/images/00633_jpg.rf.3c9c23964cd88669bb4aa87426d64eb3.jpg: 640x640 1 front, 10.2ms\n",
            "image 53/213 /content/ParkKU-2/test/images/00656_jpg.rf.499f23bc139c3486f5aa0c9d89df3a22.jpg: 640x640 1 front, 10.3ms\n",
            "image 54/213 /content/ParkKU-2/test/images/00685_jpg.rf.15d7ad23f6438929746e3eb259c092c7.jpg: 640x640 1 front, 10.3ms\n",
            "image 55/213 /content/ParkKU-2/test/images/00686_jpg.rf.261c01529629c15d44193e447932069b.jpg: 640x640 1 behind, 10.4ms\n",
            "image 56/213 /content/ParkKU-2/test/images/00706_jpg.rf.e09e28115af596d8d2b89050e2062b0d.jpg: 640x640 1 front, 10.2ms\n",
            "image 57/213 /content/ParkKU-2/test/images/00760_jpg.rf.a1cbda64066fe4276367114b64cc7646.jpg: 640x640 1 front, 10.3ms\n",
            "image 58/213 /content/ParkKU-2/test/images/00898_jpg.rf.6e88fc344cdb935c72fc1fa10a1d25da.jpg: 640x640 1 front, 10.3ms\n",
            "image 59/213 /content/ParkKU-2/test/images/00909_jpg.rf.245fa07ede84e7868ef46d63f82f3dac.jpg: 640x640 1 front, 10.3ms\n",
            "image 60/213 /content/ParkKU-2/test/images/00938_jpg.rf.f68585a851ee228dae8ec166b9c05a8f.jpg: 640x640 1 behind, 10.3ms\n",
            "image 61/213 /content/ParkKU-2/test/images/00963_jpg.rf.51241626a3cb65d0d33f47d41c952946.jpg: 640x640 1 front, 10.3ms\n",
            "image 62/213 /content/ParkKU-2/test/images/00991_jpg.rf.1bc228c9efcba564c9fba16936ab79ea.jpg: 640x640 1 front, 10.4ms\n",
            "image 63/213 /content/ParkKU-2/test/images/01000_jpg.rf.308ae0d2bf00ec6aa2d0ffbd91041bb0.jpg: 640x640 1 front, 10.3ms\n",
            "image 64/213 /content/ParkKU-2/test/images/01015_jpg.rf.89ea04c7f9497d7d81b8316ddbba4636.jpg: 640x640 1 front, 10.2ms\n",
            "image 65/213 /content/ParkKU-2/test/images/01027_jpg.rf.a410f51ebabb684cc13996639147f00e.jpg: 640x640 1 front, 10.2ms\n",
            "image 66/213 /content/ParkKU-2/test/images/01034_jpg.rf.5c24a6671c2e5e6c225c0d57df312f17.jpg: 640x640 1 front, 10.2ms\n",
            "image 67/213 /content/ParkKU-2/test/images/01043_jpg.rf.1f444e80aeecb2780307371102e874d9.jpg: 640x640 1 front, 10.3ms\n",
            "image 68/213 /content/ParkKU-2/test/images/01056_jpg.rf.8e6e4f18954505d39e660c339b13b689.jpg: 640x640 1 behind, 10.2ms\n",
            "image 69/213 /content/ParkKU-2/test/images/01088_jpg.rf.30514015ff14018b9b4f688f85db0db6.jpg: 640x640 2 fronts, 10.2ms\n",
            "image 70/213 /content/ParkKU-2/test/images/01095_jpg.rf.47c729fad0d44a16b06269c3a8964ec0.jpg: 640x640 1 behind, 10.3ms\n",
            "image 71/213 /content/ParkKU-2/test/images/01126_jpg.rf.ffc3af5bbba309afc10cd100c9f169bd.jpg: 640x640 1 front, 10.3ms\n",
            "image 72/213 /content/ParkKU-2/test/images/01147_jpg.rf.9650a8e2674196aa5971358cf150b6fd.jpg: 640x640 1 front, 10.2ms\n",
            "image 73/213 /content/ParkKU-2/test/images/01152_jpg.rf.d92da809b458c8debda5325a3f2ec2b8.jpg: 640x640 1 front, 10.1ms\n",
            "image 74/213 /content/ParkKU-2/test/images/01219_jpg.rf.a11187701103bd1fcde1e97ff1e4ab6c.jpg: 640x640 1 front, 10.0ms\n",
            "image 75/213 /content/ParkKU-2/test/images/01220_jpg.rf.04db499226e4a3b3eeb97f04ec1628fa.jpg: 640x640 1 front, 10.0ms\n",
            "image 76/213 /content/ParkKU-2/test/images/01236_jpg.rf.79b044318961477e6bb570c8b9da2c00.jpg: 640x640 1 behind, 10.1ms\n",
            "image 77/213 /content/ParkKU-2/test/images/01249_jpg.rf.c39915397e70cbc6129c5d67218716ab.jpg: 640x640 1 front, 9.7ms\n",
            "image 78/213 /content/ParkKU-2/test/images/01260_jpg.rf.59537d7b3f12e2b3deaa265c1ccdb4fe.jpg: 640x640 1 front, 9.7ms\n",
            "image 79/213 /content/ParkKU-2/test/images/01261_jpg.rf.053e3deb1151c036e2dabda95f15595a.jpg: 640x640 1 front, 9.7ms\n",
            "image 80/213 /content/ParkKU-2/test/images/01315_jpg.rf.cf7c1b44113bba06f33ea77d6b158dcc.jpg: 640x640 1 front, 9.8ms\n",
            "image 81/213 /content/ParkKU-2/test/images/01331_jpg.rf.02e6b8a56cbd1b84bd95c955b3f1051f.jpg: 640x640 1 front, 9.9ms\n",
            "image 82/213 /content/ParkKU-2/test/images/01343_jpg.rf.4e7fb5b7ffe57cffa7e48eb4bd3eb964.jpg: 640x640 1 front, 9.8ms\n",
            "image 83/213 /content/ParkKU-2/test/images/01376_jpg.rf.cb06c1f96a680bc602bd91ae55bf4dd9.jpg: 640x640 1 front, 9.9ms\n",
            "image 84/213 /content/ParkKU-2/test/images/01378_jpg.rf.942cb48f1d102b5a29d067f54d4de5c9.jpg: 640x640 2 fronts, 9.8ms\n",
            "image 85/213 /content/ParkKU-2/test/images/01417_jpg.rf.7e0705601d90805c0cd5e422df53ddcb.jpg: 640x640 1 front, 9.6ms\n",
            "image 86/213 /content/ParkKU-2/test/images/01487_jpg.rf.ffbf425479be9c85f94a0e382ef23383.jpg: 640x640 1 front, 9.6ms\n",
            "image 87/213 /content/ParkKU-2/test/images/01489_jpg.rf.b36bc7ca22e89da183ab5f208262b6a2.jpg: 640x640 1 front, 9.6ms\n",
            "image 88/213 /content/ParkKU-2/test/images/01538_jpg.rf.22de7633a7622d640e9594b6372ff29d.jpg: 640x640 2 fronts, 9.6ms\n",
            "image 89/213 /content/ParkKU-2/test/images/01552_jpg.rf.a9b2a9a949149e931e95edff052bf4d8.jpg: 640x640 1 front, 9.6ms\n",
            "image 90/213 /content/ParkKU-2/test/images/01592_jpg.rf.8f8b9b877e28b4321cd4b4a653ba20c3.jpg: 640x640 1 front, 9.6ms\n",
            "image 91/213 /content/ParkKU-2/test/images/01619_jpg.rf.8a5af5412b7e2c47bc000f680859fd51.jpg: 640x640 1 front, 9.6ms\n",
            "image 92/213 /content/ParkKU-2/test/images/01672_jpg.rf.f6a8762e6d7fd09800a834aa4818ae60.jpg: 640x640 1 front, 9.8ms\n",
            "image 93/213 /content/ParkKU-2/test/images/01705_jpg.rf.d8d105e88972a2a32ea7eea66e99d2e8.jpg: 640x640 1 front, 9.6ms\n",
            "image 94/213 /content/ParkKU-2/test/images/01728_jpg.rf.e4f5164224f1ac7f890edbc06bf02fc6.jpg: 640x640 1 front, 9.6ms\n",
            "image 95/213 /content/ParkKU-2/test/images/01739_jpg.rf.3e9ec9ab117f363e076e19277a4eb8f1.jpg: 640x640 1 front, 9.6ms\n",
            "image 96/213 /content/ParkKU-2/test/images/01780_jpg.rf.04a948503ed2c637f65f58678201a2f7.jpg: 640x640 1 front, 9.6ms\n",
            "image 97/213 /content/ParkKU-2/test/images/01841_jpg.rf.03160a789a43ea9aee185f53bf247ddb.jpg: 640x640 1 behind, 9.6ms\n",
            "image 98/213 /content/ParkKU-2/test/images/01877_jpg.rf.5ce20a24a9c9d43540aa731432f27e71.jpg: 640x640 1 front, 9.6ms\n",
            "image 99/213 /content/ParkKU-2/test/images/01912_jpg.rf.6c88fd188e4ddc410f63099916c7a905.jpg: 640x640 1 front, 9.6ms\n",
            "image 100/213 /content/ParkKU-2/test/images/01970_jpg.rf.5db9c76146a69057ffde19dc79c42bad.jpg: 640x640 1 behind, 2 fronts, 9.6ms\n",
            "image 101/213 /content/ParkKU-2/test/images/01983_jpg.rf.f55ec7fac77a8b67c8e91583f5e8c7a2.jpg: 640x640 1 front, 9.7ms\n",
            "image 102/213 /content/ParkKU-2/test/images/01991_jpg.rf.2e27ea59d98aeb67925b57f78ee3b5b3.jpg: 640x640 1 front, 9.6ms\n",
            "image 103/213 /content/ParkKU-2/test/images/02010_jpg.rf.a2cd84e9f6d71e3df6de8130cc5d7051.jpg: 640x640 1 front, 9.6ms\n",
            "image 104/213 /content/ParkKU-2/test/images/02016_jpg.rf.8a293ed7a0752330746a4ef9190c12b6.jpg: 640x640 1 front, 9.6ms\n",
            "image 105/213 /content/ParkKU-2/test/images/02041_jpg.rf.48e89962dc6d8bea0731a3789bc56a4f.jpg: 640x640 1 front, 9.6ms\n",
            "image 106/213 /content/ParkKU-2/test/images/02114_jpg.rf.1d1f31db6647a9f4583c9cfddd401fd4.jpg: 640x640 1 front, 9.7ms\n",
            "image 107/213 /content/ParkKU-2/test/images/02166_jpg.rf.5092a82ac7e5d7cc04f4d146c3ed73b5.jpg: 640x640 1 behind, 9.6ms\n",
            "image 108/213 /content/ParkKU-2/test/images/02179_jpg.rf.95ab632294e6be6f88d6079150967ee6.jpg: 640x640 1 front, 9.6ms\n",
            "image 109/213 /content/ParkKU-2/test/images/02190_jpg.rf.b468866ecf6f795e46d8de6a43ea7e98.jpg: 640x640 1 behind, 1 front, 9.6ms\n",
            "image 110/213 /content/ParkKU-2/test/images/02228_jpg.rf.f2d0ee84ba27b17b06afaedc88ae4400.jpg: 640x640 1 front, 9.6ms\n",
            "image 111/213 /content/ParkKU-2/test/images/02241_jpg.rf.8af3f1b3083801dea09b9cdff47deb01.jpg: 640x640 1 front, 9.6ms\n",
            "image 112/213 /content/ParkKU-2/test/images/02269_jpg.rf.cea2e9cfba081cdd81950f589899fe31.jpg: 640x640 1 front, 9.6ms\n",
            "image 113/213 /content/ParkKU-2/test/images/02273_jpg.rf.2f1b9aa59a599d7c2e36843a86352fcf.jpg: 640x640 1 behind, 9.6ms\n",
            "image 114/213 /content/ParkKU-2/test/images/02278_jpg.rf.2fc8e19c57de1ec229665985d79bc417.jpg: 640x640 1 behind, 2 fronts, 9.6ms\n",
            "image 115/213 /content/ParkKU-2/test/images/02289_jpg.rf.b6aee7809196053a5db91ce2e007f4d0.jpg: 640x640 1 front, 9.6ms\n",
            "image 116/213 /content/ParkKU-2/test/images/02331_jpg.rf.1d717c38d072084dcba6b85304746a5f.jpg: 640x640 1 behind, 9.6ms\n",
            "image 117/213 /content/ParkKU-2/test/images/02338_jpg.rf.099c55940f48fada2f85dca86abbd512.jpg: 640x640 1 behind, 9.7ms\n",
            "image 118/213 /content/ParkKU-2/test/images/02384_jpg.rf.df82493300cbf2a1e6a0d95b9bc7fd36.jpg: 640x640 1 behind, 9.6ms\n",
            "image 119/213 /content/ParkKU-2/test/images/02458_jpg.rf.04a656019d359003846c3bf8a1ed5749.jpg: 640x640 1 behind, 9.6ms\n",
            "image 120/213 /content/ParkKU-2/test/images/02480_jpg.rf.4735d8c40cc56bd65bd91fb6bdec9cbf.jpg: 640x640 1 front, 9.6ms\n",
            "image 121/213 /content/ParkKU-2/test/images/02483_jpg.rf.d1c3706c2c44a58726f0a7302db11a2a.jpg: 640x640 1 front, 9.6ms\n",
            "image 122/213 /content/ParkKU-2/test/images/02485_jpg.rf.95b2e31c08dc402dc808a0e07663fd0b.jpg: 640x640 1 front, 9.6ms\n",
            "image 123/213 /content/ParkKU-2/test/images/02497_jpg.rf.e90aebf1534fc5bee83cfa795540c670.jpg: 640x640 1 front, 9.6ms\n",
            "image 124/213 /content/ParkKU-2/test/images/02515_jpg.rf.f0c90cae1e54cff06a89528ce9737a0d.jpg: 640x640 1 front, 9.6ms\n",
            "image 125/213 /content/ParkKU-2/test/images/02584_jpg.rf.0e8101d30b4a714eeac8202f84cccbd4.jpg: 640x640 1 behind, 9.6ms\n",
            "image 126/213 /content/ParkKU-2/test/images/02635_jpg.rf.db871a1e696ec490ab4e31037afc1d44.jpg: 640x640 1 front, 9.6ms\n",
            "image 127/213 /content/ParkKU-2/test/images/02639_jpg.rf.2df3a3722f3a01ded5d3a337eab308f7.jpg: 640x640 1 front, 9.6ms\n",
            "image 128/213 /content/ParkKU-2/test/images/02698_jpg.rf.32a90433b43b42fb8f196676982beb9d.jpg: 640x640 1 front, 9.6ms\n",
            "image 129/213 /content/ParkKU-2/test/images/02706_jpg.rf.dd71ae78ac677c07f3da2259a40ba661.jpg: 640x640 1 front, 9.6ms\n",
            "image 130/213 /content/ParkKU-2/test/images/02729_jpg.rf.e000d741284b1845978cf25233106cf9.jpg: 640x640 1 front, 9.6ms\n",
            "image 131/213 /content/ParkKU-2/test/images/02747_jpg.rf.ff2ed3e35ba855b6daddee73b9bdafe1.jpg: 640x640 1 front, 11.0ms\n",
            "image 132/213 /content/ParkKU-2/test/images/02807_jpg.rf.c92110e71a96b3dff849c3b067b4665d.jpg: 640x640 1 front, 9.6ms\n",
            "image 133/213 /content/ParkKU-2/test/images/02823_jpg.rf.bcea205c377a42a79ec8e2209b2fd2e3.jpg: 640x640 1 front, 9.6ms\n",
            "image 134/213 /content/ParkKU-2/test/images/02836_jpg.rf.63fa775df5c0e6e82387c45b5848c23c.jpg: 640x640 1 front, 9.7ms\n",
            "image 135/213 /content/ParkKU-2/test/images/02854_jpg.rf.b699eb2a5d9a4299ff806b8c5b7a61ac.jpg: 640x640 1 front, 9.7ms\n",
            "image 136/213 /content/ParkKU-2/test/images/02855_jpg.rf.b280db40ecaf22410889920b7c98dc19.jpg: 640x640 1 front, 9.7ms\n",
            "image 137/213 /content/ParkKU-2/test/images/02886_jpg.rf.48f79976d1a732100d224242adbc4faa.jpg: 640x640 1 front, 9.7ms\n",
            "image 138/213 /content/ParkKU-2/test/images/02889_jpg.rf.d0974f49eabf59cc0a6f61669d0e83df.jpg: 640x640 1 front, 9.6ms\n",
            "image 139/213 /content/ParkKU-2/test/images/02945_jpg.rf.e3b99b725fa580b04d13b956e14059d7.jpg: 640x640 1 front, 9.6ms\n",
            "image 140/213 /content/ParkKU-2/test/images/02949_jpg.rf.d4bfa82515e8f36254d27b335c769ded.jpg: 640x640 1 front, 9.7ms\n",
            "image 141/213 /content/ParkKU-2/test/images/02960_jpg.rf.1ccf4728d7fd07d4e366abddb7da8eea.jpg: 640x640 1 behind, 9.6ms\n",
            "image 142/213 /content/ParkKU-2/test/images/02970_jpg.rf.a6b2b21c672a76fe9dad29fd920abf53.jpg: 640x640 1 front, 9.6ms\n",
            "image 143/213 /content/ParkKU-2/test/images/03009_jpg.rf.1b111ee2348b6e8875be4b351e85eb48.jpg: 640x640 1 front, 9.6ms\n",
            "image 144/213 /content/ParkKU-2/test/images/03066_jpg.rf.ebbedde09b64cfd33380be1c566d3fa8.jpg: 640x640 2 behinds, 9.6ms\n",
            "image 145/213 /content/ParkKU-2/test/images/03092_jpg.rf.1ee070cc07ca25ba79a819390b523bf3.jpg: 640x640 1 front, 9.6ms\n",
            "image 146/213 /content/ParkKU-2/test/images/03106_jpg.rf.8275a6155129a4803040f15c48ad073d.jpg: 640x640 1 behind, 9.6ms\n",
            "image 147/213 /content/ParkKU-2/test/images/03111_jpg.rf.6a12c0d5ec77d50c230de25257c27856.jpg: 640x640 1 front, 9.6ms\n",
            "image 148/213 /content/ParkKU-2/test/images/03118_jpg.rf.ac1d4c612a4596b62431ad4e075721b5.jpg: 640x640 1 behind, 9.6ms\n",
            "image 149/213 /content/ParkKU-2/test/images/03125_jpg.rf.4a018daf9e4eda58c1ddba7aca307b6a.jpg: 640x640 1 front, 9.6ms\n",
            "image 150/213 /content/ParkKU-2/test/images/03139_jpg.rf.2e586f76c927a23c3a266ea093c02f50.jpg: 640x640 1 front, 9.6ms\n",
            "image 151/213 /content/ParkKU-2/test/images/03169_jpg.rf.a212c4689c83cffbecefbf08d9c47d1a.jpg: 640x640 1 front, 9.6ms\n",
            "image 152/213 /content/ParkKU-2/test/images/03183_jpg.rf.6eaf29cb6b85d9e3ad13d4662f94f83b.jpg: 640x640 1 behind, 9.6ms\n",
            "image 153/213 /content/ParkKU-2/test/images/03200_jpg.rf.96dfe5c772fdc183d2515b4e9dbb119b.jpg: 640x640 1 behind, 1 front, 9.7ms\n",
            "image 154/213 /content/ParkKU-2/test/images/03213_jpg.rf.7513ca4525d5c48cf526eb1ed41e73f2.jpg: 640x640 1 front, 9.6ms\n",
            "image 155/213 /content/ParkKU-2/test/images/03256_jpg.rf.32eda988125014ce286c69c0e5df6b5d.jpg: 640x640 1 front, 9.6ms\n",
            "image 156/213 /content/ParkKU-2/test/images/03272_jpg.rf.3a726fb39d3d3eb695218ab193282239.jpg: 640x640 1 front, 9.6ms\n",
            "image 157/213 /content/ParkKU-2/test/images/03311_jpg.rf.708670ca861ed8ee12d07dc58f7861c7.jpg: 640x640 1 front, 9.6ms\n",
            "image 158/213 /content/ParkKU-2/test/images/03346_jpg.rf.81b671898ca87f14f848aa573a857e7d.jpg: 640x640 1 front, 9.6ms\n",
            "image 159/213 /content/ParkKU-2/test/images/03399_jpg.rf.7f12ee75002a6e6d0c1e47cccc01922c.jpg: 640x640 1 front, 9.7ms\n",
            "image 160/213 /content/ParkKU-2/test/images/03419_jpg.rf.b5f32928c0a0fe333f3e02e6026c3731.jpg: 640x640 1 behind, 1 front, 9.8ms\n",
            "image 161/213 /content/ParkKU-2/test/images/03443_jpg.rf.f6ad0ebfb4657ef8fb89a919fe997930.jpg: 640x640 1 front, 9.6ms\n",
            "image 162/213 /content/ParkKU-2/test/images/03609_jpg.rf.f06ee4029f7e3e7606ce2c7bffd0032f.jpg: 640x640 1 front, 9.6ms\n",
            "image 163/213 /content/ParkKU-2/test/images/03616_jpg.rf.6f3f6d55489b92a94395a91a53186f79.jpg: 640x640 1 front, 9.6ms\n",
            "image 164/213 /content/ParkKU-2/test/images/03620_jpg.rf.3da55493755404187a660f38f57d9f90.jpg: 640x640 1 front, 9.6ms\n",
            "image 165/213 /content/ParkKU-2/test/images/03623_jpg.rf.a34fcf50180951eab35827407fd619a7.jpg: 640x640 1 front, 10.0ms\n",
            "image 166/213 /content/ParkKU-2/test/images/03626_jpg.rf.ae1038701c1cc253101c6955a946130f.jpg: 640x640 1 front, 10.0ms\n",
            "image 167/213 /content/ParkKU-2/test/images/03636_jpg.rf.6bb664c0d05ff5d6c62bcd16cb227828.jpg: 640x640 1 behind, 10.0ms\n",
            "image 168/213 /content/ParkKU-2/test/images/03641_jpg.rf.bb0d94f465a953721f039f7f59dbbbc1.jpg: 640x640 1 front, 9.9ms\n",
            "image 169/213 /content/ParkKU-2/test/images/03655_jpg.rf.57f0460cebfa388653bebfefadbd41d9.jpg: 640x640 1 front, 9.7ms\n",
            "image 170/213 /content/ParkKU-2/test/images/03679_jpg.rf.61d6abe168f03b7193db4e715afd3606.jpg: 640x640 1 front, 9.7ms\n",
            "image 171/213 /content/ParkKU-2/test/images/03684_jpg.rf.e718f94b7b1adf59d044ec08a361a7ad.jpg: 640x640 1 front, 10.9ms\n",
            "image 172/213 /content/ParkKU-2/test/images/03687_jpg.rf.5a49030e560591f22080fdd2abd23646.jpg: 640x640 1 behind, 9.8ms\n",
            "image 173/213 /content/ParkKU-2/test/images/03692_jpg.rf.08a12ce9011aa35ef3b05dc57469e0c6.jpg: 640x640 1 front, 9.8ms\n",
            "image 174/213 /content/ParkKU-2/test/images/03702_jpg.rf.f971ea668e9eeb60217cb05b0be4b9d5.jpg: 640x640 1 front, 9.8ms\n",
            "image 175/213 /content/ParkKU-2/test/images/03746_jpg.rf.014c8d7d72d72f16e99a011bb5e5d35a.jpg: 640x640 1 behind, 9.7ms\n",
            "image 176/213 /content/ParkKU-2/test/images/03749_jpg.rf.5440a0efa47bf00a36863aacbe626621.jpg: 640x640 1 behind, 9.7ms\n",
            "image 177/213 /content/ParkKU-2/test/images/03779_jpg.rf.802cf330b7884d8855a7744aa3be6996.jpg: 640x640 1 front, 9.7ms\n",
            "image 178/213 /content/ParkKU-2/test/images/03788_jpg.rf.bac67e69b4d395fe3060d9901a682bce.jpg: 640x640 1 behind, 9.7ms\n",
            "image 179/213 /content/ParkKU-2/test/images/03800_jpg.rf.ae7f6c08e2c58b7527016a2fd511c3b1.jpg: 640x640 1 front, 9.9ms\n",
            "image 180/213 /content/ParkKU-2/test/images/03832_jpg.rf.ce37ab5dc47527e2036746cf5921ccdb.jpg: 640x640 1 behind, 10.1ms\n",
            "image 181/213 /content/ParkKU-2/test/images/03835_jpg.rf.c5e50f21de07ba85516150334261c20f.jpg: 640x640 1 front, 10.1ms\n",
            "image 182/213 /content/ParkKU-2/test/images/03837_jpg.rf.18616502d5a2eb21162861e683b519b5.jpg: 640x640 2 behinds, 1 front, 10.1ms\n",
            "image 183/213 /content/ParkKU-2/test/images/03842_jpg.rf.e8f99d4432eafdac5b1e59760ce1ba64.jpg: 640x640 1 front, 9.8ms\n",
            "image 184/213 /content/ParkKU-2/test/images/03844_jpg.rf.1d17a58f3015312aa75cb3a4d4c5bd7e.jpg: 640x640 1 front, 9.8ms\n",
            "image 185/213 /content/ParkKU-2/test/images/03872_jpg.rf.c081dae241eeeca84e1a1b897a3a26b2.jpg: 640x640 1 behind, 9.8ms\n",
            "image 186/213 /content/ParkKU-2/test/images/03891_jpg.rf.0ef49fc59aee0ca45de5e0f6a0804cf8.jpg: 640x640 1 behind, 9.8ms\n",
            "image 187/213 /content/ParkKU-2/test/images/03940_jpg.rf.52ba0a01c5f1817c2bc114e47899fbd2.jpg: 640x640 1 front, 10.0ms\n",
            "image 188/213 /content/ParkKU-2/test/images/03984_jpg.rf.f523f3a3c2bcdf26ff3d13369b86692f.jpg: 640x640 1 front, 10.1ms\n",
            "image 189/213 /content/ParkKU-2/test/images/04052_jpg.rf.4b789ffe3ccb7f0f2ce5fca9d4653af1.jpg: 640x640 1 front, 10.1ms\n",
            "image 190/213 /content/ParkKU-2/test/images/04074_jpg.rf.6ba11479991cc246f95e25c9e21bc3dd.jpg: 640x640 1 front, 10.0ms\n",
            "image 191/213 /content/ParkKU-2/test/images/04076_jpg.rf.490f1a6d2adfabe311d828a5b537b748.jpg: 640x640 1 front, 9.7ms\n",
            "image 192/213 /content/ParkKU-2/test/images/04108_jpg.rf.1ff0dd8234d893297ff57ff58d0798d3.jpg: 640x640 1 behind, 9.7ms\n",
            "image 193/213 /content/ParkKU-2/test/images/04117_jpg.rf.690cae54d111b313935d3beef23fcd72.jpg: 640x640 1 front, 9.7ms\n",
            "image 194/213 /content/ParkKU-2/test/images/04124_jpg.rf.c4af209c10e55fec090c0f4537ef49d9.jpg: 640x640 1 front, 9.7ms\n",
            "image 195/213 /content/ParkKU-2/test/images/04127_jpg.rf.ba5cccd288615f4a0d65fcdcf76e712f.jpg: 640x640 1 front, 9.8ms\n",
            "image 196/213 /content/ParkKU-2/test/images/04148_jpg.rf.c496a0e71ffeff1b5a6a7d7eff8c1c0c.jpg: 640x640 1 front, 9.7ms\n",
            "image 197/213 /content/ParkKU-2/test/images/MVI_20063__img00136_jpg.rf.1374236eb5f1b244085aaa4b2a6a2284.jpg: 640x640 1 behind, 3 fronts, 10.6ms\n",
            "image 198/213 /content/ParkKU-2/test/images/MVI_20064__img00220_jpg.rf.e9d715a8efbab70607b137e6812d803b.jpg: 640x640 6 behinds, 7 fronts, 9.7ms\n",
            "image 199/213 /content/ParkKU-2/test/images/MVI_20064__img00288_jpg.rf.13adf0f1123112e6eab364a0084a4ba6.jpg: 640x640 4 behinds, 6 fronts, 9.7ms\n",
            "image 200/213 /content/ParkKU-2/test/images/MVI_20065__img00880_jpg.rf.8a0de10ba71e941a93b49051e5257809.jpg: 640x640 11 behinds, 6 fronts, 9.7ms\n",
            "image 201/213 /content/ParkKU-2/test/images/MVI_20065__img01112_jpg.rf.1c128d98b606bf92a10fd54242817404.jpg: 640x640 6 behinds, 3 fronts, 9.7ms\n",
            "image 202/213 /content/ParkKU-2/test/images/MVI_39811__img00759_jpg.rf.208bf4ab3846ccc919c458490d2a2a1f.jpg: 640x640 1 behind, 1 front, 9.7ms\n",
            "image 203/213 /content/ParkKU-2/test/images/MVI_39851__img01299_jpg.rf.3a59914990170128b310462824a9b6ff.jpg: 640x640 3 behinds, 9.7ms\n",
            "image 204/213 /content/ParkKU-2/test/images/MVI_40141__img01407_jpg.rf.a9ffda57d414d44b8dcc888d4ade2571.jpg: 640x640 3 fronts, 9.7ms\n",
            "image 205/213 /content/ParkKU-2/test/images/MVI_40141__img01419_jpg.rf.4800196462e520efd5248cc720ffd14e.jpg: 640x640 3 fronts, 9.7ms\n",
            "image 206/213 /content/ParkKU-2/test/images/MVI_40152__img00271_jpg.rf.26b1a0863ee6b327fc40b43e77701eca.jpg: 640x640 7 behinds, 4 fronts, 9.7ms\n",
            "image 207/213 /content/ParkKU-2/test/images/t14173_jpg.rf.1a34845e28aa128923f2862cb69977f5.jpg: 640x640 1 behind, 10.4ms\n",
            "image 208/213 /content/ParkKU-2/test/images/t15458_jpg.rf.effd906681cfdd17eae106d586e1c9d3.jpg: 640x640 1 behind, 9.8ms\n",
            "image 209/213 /content/ParkKU-2/test/images/t17681_jpg.rf.82cceedd855a34466edf0a72b2722c27.jpg: 640x640 1 behind, 9.7ms\n",
            "image 210/213 /content/ParkKU-2/test/images/t27308_jpg.rf.196d77355b40d6ab7e47d195f2389816.jpg: 640x640 1 behind, 9.7ms\n",
            "image 211/213 /content/ParkKU-2/test/images/w1772_jpg.rf.27fe55596aa439daa8694088738e951f.jpg: 640x640 1 front, 9.8ms\n",
            "image 212/213 /content/ParkKU-2/test/images/w2286_jpg.rf.64f2b5fafb26f5ce722b2b9c5dddd201.jpg: 640x640 2 fronts, 9.7ms\n",
            "image 213/213 /content/ParkKU-2/test/images/w247_jpg.rf.f54d2bf74ff7329297437981a9e3c24a.jpg: 640x640 1 front, 9.7ms\n",
            "Speed: 1.4ms preprocess, 10.4ms inference, 4.0ms postprocess per image at shape (1, 3, 640, 640)\n",
            "Results saved to \u001b[1mruns/detect/predict\u001b[0m\n",
            "💡 Learn more at https://docs.ultralytics.com/modes/predict\n"
          ]
        }
      ],
      "source": [
        "!yolo task=detect \\\n",
        "mode=predict \\\n",
        "model=/content/runs/detect/train/weights/best.pt \\\n",
        "conf=0.25 \\\n",
        "source=/content/ParkKU-2/test/images"
      ]
    },
    {
      "cell_type": "code",
      "source": [
        "# !rm -rf /content/runs/detect/train"
      ],
      "metadata": {
        "id": "FkArgNZaStUu"
      },
      "execution_count": null,
      "outputs": []
    },
    {
      "cell_type": "code",
      "execution_count": 12,
      "metadata": {
        "id": "3kI0njDrh4Ws"
      },
      "outputs": [],
      "source": [
        "import os\n",
        "import shutil\n",
        "\n",
        "source_dir = '/content/runs'\n",
        "dest_dir = '/content/drive/MyDrive/BE Project/Data/Vehicle Orientation Detection'\n",
        "\n",
        "if os.path.exists(dest_dir):\n",
        "        shutil.rmtree(dest_dir)\n",
        "        shutil.copytree(source_dir, dest_dir)"
      ]
    },
    {
      "cell_type": "code",
      "execution_count": 11,
      "metadata": {
        "colab": {
          "base_uri": "https://localhost:8080/"
        },
        "id": "TCbbCnc5jjmP",
        "outputId": "643670fd-cb7a-4873-f24a-5d003cbaedf0"
      },
      "outputs": [
        {
          "output_type": "stream",
          "name": "stdout",
          "text": [
            "Ultralytics YOLOv8.1.11 🚀 Python-3.10.12 torch-2.1.0+cu121 CUDA:0 (Tesla T4, 15102MiB)\n",
            "Model summary (fused): 168 layers, 11126358 parameters, 0 gradients, 28.4 GFLOPs\n",
            "\n",
            "image 1/1 /content/car.jpg: 224x640 1 behind, 1 front, 108.8ms\n",
            "Speed: 2.0ms preprocess, 108.8ms inference, 496.0ms postprocess per image at shape (1, 3, 224, 640)\n",
            "Results saved to \u001b[1mruns/detect/predict2\u001b[0m\n",
            "💡 Learn more at https://docs.ultralytics.com/modes/predict\n"
          ]
        }
      ],
      "source": [
        "!yolo task=detect \\\n",
        "mode=predict \\\n",
        "model=/content/runs/detect/train/weights/best.pt \\\n",
        "conf=0.25 \\\n",
        "source=/content/car.jpg"
      ]
    },
    {
      "cell_type": "code",
      "execution_count": null,
      "metadata": {
        "id": "TvA7Hk-oYLHD"
      },
      "outputs": [],
      "source": []
    }
  ],
  "metadata": {
    "accelerator": "GPU",
    "colab": {
      "provenance": []
    },
    "kernelspec": {
      "display_name": "Python 3",
      "name": "python3"
    },
    "language_info": {
      "name": "python"
    }
  },
  "nbformat": 4,
  "nbformat_minor": 0
}